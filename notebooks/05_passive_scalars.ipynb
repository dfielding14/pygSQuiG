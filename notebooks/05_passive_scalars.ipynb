{
 "cells": [
  {
   "cell_type": "markdown",
   "metadata": {},
   "source": [
    "# Passive Scalar Transport in pygSQuiG\n",
    "\n",
    "This notebook demonstrates:\n",
    "1. Adding passive scalars to gSQG simulations\n",
    "2. Configuring scalar diffusivity\n",
    "3. Analyzing scalar mixing and transport\n",
    "4. Multiple scalar species\n",
    "5. Scalar variance spectra"
   ]
  },
  {
   "cell_type": "markdown",
   "metadata": {},
   "source": [
    "## 1. Setup and Imports"
   ]
  },
  {
   "cell_type": "code",
   "execution_count": null,
   "metadata": {},
   "outputs": [],
   "source": "import numpy as np\nimport jax\nimport jax.numpy as jnp\nimport matplotlib.pyplot as plt\nfrom matplotlib import cm\n\n# pygSQuiG imports\nfrom pygsquig.core.grid import make_grid, ifft2\nfrom pygsquig.core.solver_with_scalars import gSQGSolverWithScalars\nfrom pygsquig.scalars.diagnostics import (\n    compute_scalar_variance,\n    compute_scalar_variance_spectrum,\n    compute_scalar_dissipation,\n)\nfrom pygsquig.utils.diagnostics import compute_total_energy\n\nprint(\"pygSQuiG passive scalar demonstration\")"
  },
  {
   "cell_type": "markdown",
   "metadata": {},
   "source": [
    "## 2. Physical Setup\n",
    "\n",
    "Passive scalars are advected by the flow but don't affect it (one-way coupling).\n",
    "The equation for each scalar $c_i$ is:\n",
    "\n",
    "$$\\frac{\\partial c_i}{\\partial t} + \\mathbf{u} \\cdot \\nabla c_i = \\kappa_i \\nabla^2 c_i + S_i$$\n",
    "\n",
    "where:\n",
    "- $\\mathbf{u}$ is the velocity from the gSQG dynamics\n",
    "- $\\kappa_i$ is the molecular diffusivity\n",
    "- $S_i$ is an optional source term"
   ]
  },
  {
   "cell_type": "code",
   "execution_count": null,
   "metadata": {},
   "outputs": [],
   "source": [
    "# Grid parameters\n",
    "N = 128\n",
    "L = 2 * np.pi\n",
    "grid = make_grid(N, L)\n",
    "\n",
    "# gSQG parameters\n",
    "alpha = 1.0      # SQG case\n",
    "nu_p = 1e-16     # Hyperviscosity for θ\n",
    "p = 8            # Hyperviscosity order\n",
    "\n",
    "# Passive scalar configuration\n",
    "# We'll add a 'dye' scalar with low diffusivity\n",
    "passive_scalars = {\n",
    "    'dye': {\n",
    "        'kappa': 1e-4,  # Much smaller than velocity dissipation\n",
    "        'source': None   # No source for now\n",
    "    }\n",
    "}\n",
    "\n",
    "print(f\"Configuration:\")\n",
    "print(f\"  Grid: {N}×{N}, L={L:.2f}\")\n",
    "print(f\"  gSQG: α={alpha}, ν_{p}={nu_p:.1e}\")\n",
    "print(f\"  Scalar 'dye': κ={passive_scalars['dye']['kappa']:.1e}\")"
   ]
  },
  {
   "cell_type": "code",
   "execution_count": null,
   "metadata": {},
   "outputs": [],
   "source": [
    "# Create solver that includes passive scalars\n",
    "solver = gSQGSolverWithScalars(\n",
    "    grid=grid,\n",
    "    alpha=alpha,\n",
    "    nu_p=nu_p,\n",
    "    p=p,\n",
    "    passive_scalars=passive_scalars\n",
    ")\n",
    "\n",
    "print(\"Solver created with passive scalar capability!\")\n",
    "print(f\"Number of scalars: {len(passive_scalars)}\")"
   ]
  },
  {
   "cell_type": "markdown",
   "metadata": {},
   "source": [
    "## 4. Initialize with Scalar Field\n",
    "\n",
    "We'll initialize:\n",
    "- Random turbulent flow for θ\n",
    "- A Gaussian blob for the scalar (to watch it get mixed)"
   ]
  },
  {
   "cell_type": "code",
   "execution_count": null,
   "metadata": {},
   "outputs": [],
   "source": [
    "# Initialize θ with random field\n",
    "state = solver.initialize(seed=42)\n",
    "\n",
    "# Create initial scalar field - Gaussian blob\n",
    "x, y = grid.x, grid.y\n",
    "x0, y0 = L/2, L/2  # Center of domain\n",
    "width = L/8        # Blob width\n",
    "\n",
    "# Gaussian blob\n",
    "r2 = (x - x0)**2 + (y - y0)**2\n",
    "dye_init = jnp.exp(-r2 / (2 * width**2))\n",
    "\n",
    "# Add scalar to state\n",
    "scalar_init = {'dye': dye_init}\n",
    "state = solver.initialize(seed=42, scalar_init=scalar_init)\n",
    "\n",
    "print(\"Initial state created with scalar field\")\n",
    "print(f\"Initial dye variance: {compute_scalar_variance(state.scalar_state.scalars['dye'], grid):.6f}\")"
   ]
  },
  {
   "cell_type": "code",
   "execution_count": null,
   "metadata": {},
   "outputs": [],
   "source": "# Initialize θ with random field\nstate = solver.initialize(seed=42)\n\n# Create initial scalar field - Gaussian blob\nx, y = grid.x, grid.y\nx0, y0 = L/2, L/2  # Center of domain\nwidth = L/8        # Blob width\n\n# Gaussian blob\nr2 = (x - x0)**2 + (y - y0)**2\ndye_init = jnp.exp(-r2 / (2 * width**2))\n\n# Add scalar to state\nscalar_init = {'dye': dye_init}\nstate = solver.initialize(seed=42, scalar_init=scalar_init)\n\nprint(\"Initial state created with scalar field\")\nprint(f\"Initial dye variance: {float(compute_scalar_variance(state['scalar_state'].scalars['dye'])):.6f}\")"
  },
  {
   "cell_type": "markdown",
   "metadata": {},
   "source": "# Visualize initial condition\nfig, (ax1, ax2) = plt.subplots(1, 2, figsize=(12, 5))\n\n# θ field\ntheta = ifft2(state['theta_hat']).real\nim1 = ax1.imshow(theta, cmap='RdBu_r', origin='lower', extent=[0, L, 0, L])\nax1.set_title('Initial θ (buoyancy)')\nax1.set_xlabel('x')\nax1.set_ylabel('y')\nplt.colorbar(im1, ax=ax1)\n\n# Dye field\ndye = ifft2(state['scalar_state'].scalars['dye']).real\nim2 = ax2.imshow(dye, cmap='viridis', origin='lower', extent=[0, L, 0, L])\nax2.set_title('Initial dye concentration')\nax2.set_xlabel('x')\nax2.set_ylabel('y')\nplt.colorbar(im2, ax=ax2)\n\nplt.tight_layout()\nplt.show()"
  },
  {
   "cell_type": "code",
   "execution_count": null,
   "metadata": {},
   "outputs": [],
   "source": "# Initialize θ with random field\nstate = solver.initialize(seed=42)\n\n# Create initial scalar field - Gaussian blob\nx, y = grid.x, grid.y\nx0, y0 = L/2, L/2  # Center of domain\nwidth = L/8        # Blob width\n\n# Gaussian blob\nr2 = (x - x0)**2 + (y - y0)**2\ndye_init = jnp.exp(-r2 / (2 * width**2))\n\n# Add scalar to state\nscalar_init = {'dye': dye_init}\nstate = solver.initialize(seed=42, scalar_init=scalar_init)\n\nprint(\"Initial state created with scalar field\")\nprint(f\"Initial dye variance: {float(compute_scalar_variance(state.scalar_state.scalars['dye'])):.6f}\")"
  },
  {
   "cell_type": "code",
   "execution_count": null,
   "metadata": {},
   "outputs": [],
   "source": "# Initialize θ with random field\nstate = solver.initialize(seed=42)\n\n# Create initial scalar field - Gaussian blob\nx, y = grid.x, grid.y\nx0, y0 = L/2, L/2  # Center of domain\nwidth = L/8        # Blob width\n\n# Gaussian blob\nr2 = (x - x0)**2 + (y - y0)**2\ndye_init = jnp.exp(-r2 / (2 * width**2))\n\n# Add scalar to state\nscalar_init = {'dye': dye_init}\nstate = solver.initialize(seed=42, scalar_init=scalar_init)\n\nprint(\"Initial state created with scalar field\")\nprint(f\"Initial dye variance: {float(compute_scalar_variance(state['scalar_state'].scalars['dye'])):.6f}\")"
  },
  {
   "cell_type": "markdown",
   "metadata": {},
   "source": [
    "## 6. Mixing Diagnostics"
   ]
  },
  {
   "cell_type": "code",
   "execution_count": null,
   "metadata": {},
   "outputs": [],
   "source": [
    "# Plot mixing diagnostics\n",
    "fig, (ax1, ax2) = plt.subplots(2, 1, figsize=(10, 8))\n",
    "\n",
    "# Scalar variance decay\n",
    "ax1.plot(times, dye_variances, 'b-', linewidth=2)\n",
    "ax1.set_ylabel('Scalar Variance ⟨c²⟩')\n",
    "ax1.set_title('Scalar Variance Decay (Mixing)')\n",
    "ax1.grid(True, alpha=0.3)\n",
    "ax1.set_yscale('log')\n",
    "\n",
    "# Gradient growth (strain)\n",
    "ax2.plot(times, dye_gradients, 'r-', linewidth=2)\n",
    "ax2.set_xlabel('Time')\n",
    "ax2.set_ylabel('⟨|∇c|²⟩^{1/2}')\n",
    "ax2.set_title('Scalar Gradient (Strain Enhancement)')\n",
    "ax2.grid(True, alpha=0.3)\n",
    "\n",
    "plt.tight_layout()\n",
    "plt.show()\n",
    "\n",
    "# Mixing efficiency\n",
    "initial_var = dye_variances[0]\n",
    "final_var = dye_variances[-1]\n",
    "mixing_efficiency = 1 - final_var/initial_var\n",
    "\n",
    "print(f\"Mixing analysis:\")\n",
    "print(f\"  Initial variance: {initial_var:.6f}\")\n",
    "print(f\"  Final variance: {final_var:.6f}\")\n",
    "print(f\"  Mixing efficiency: {mixing_efficiency*100:.1f}%\")\n",
    "print(f\"  Peak gradient enhancement: {max(dye_gradients)/dye_gradients[0]:.1f}x\")"
   ]
  },
  {
   "cell_type": "markdown",
   "metadata": {},
   "source": "# Time stepping parameters\ndt = 0.001\nn_steps = 500\nplot_interval = 100\n\n# Storage for diagnostics\ntimes = [state.time]\ndye_variances = [float(compute_scalar_variance(state.scalar_state.scalars['dye']))]\ndye_dissipation = [compute_scalar_dissipation(state.scalar_state.scalars['dye'], grid, passive_scalars['dye']['kappa'])]\n\n# Evolution snapshots\nsnapshots = [(state.time, state.scalar_state.scalars['dye'].copy())]\n\nprint(\"Starting evolution...\")\nfor step in range(n_steps):\n    state = solver.step(state, dt)\n    \n    # Diagnostics\n    if (step + 1) % 10 == 0:\n        times.append(float(state.time))\n        dye_variances.append(float(compute_scalar_variance(state.scalar_state.scalars['dye'])))\n        dye_dissipation.append(float(compute_scalar_dissipation(state.scalar_state.scalars['dye'], grid, passive_scalars['dye']['kappa'])))\n    \n    # Save snapshots\n    if (step + 1) % plot_interval == 0:\n        snapshots.append((float(state.time), state.scalar_state.scalars['dye'].copy()))\n        print(f\"  Step {step+1}: t={state.time:.3f}\")\n\nprint(\"Evolution complete!\")"
  },
  {
   "cell_type": "code",
   "execution_count": null,
   "metadata": {},
   "outputs": [],
   "source": "# Time stepping parameters\ndt = 0.001\nn_steps = 500\nplot_interval = 100\n\n# Storage for diagnostics\ntimes = [float(state['time'])]\ndye_variances = [float(compute_scalar_variance(state['scalar_state'].scalars['dye']))]\ndye_dissipation = [float(compute_scalar_dissipation(state['scalar_state'].scalars['dye'], grid, passive_scalars['dye']['kappa']))]\n\n# Evolution snapshots\nsnapshots = [(float(state['time']), state['scalar_state'].scalars['dye'].copy())]\n\nprint(\"Starting evolution...\")\nfor step in range(n_steps):\n    state = solver.step(state, dt)\n    \n    # Diagnostics\n    if (step + 1) % 10 == 0:\n        times.append(float(state['time']))\n        dye_variances.append(float(compute_scalar_variance(state['scalar_state'].scalars['dye'])))\n        dye_dissipation.append(float(compute_scalar_dissipation(state['scalar_state'].scalars['dye'], grid, passive_scalars['dye']['kappa'])))\n    \n    # Save snapshots\n    if (step + 1) % plot_interval == 0:\n        snapshots.append((float(state['time']), state['scalar_state'].scalars['dye'].copy()))\n        print(f\"  Step {step+1}: t={float(state['time']):.3f}\")\n\nprint(\"Evolution complete!\")"
  },
  {
   "cell_type": "markdown",
   "metadata": {},
   "source": "# Compute scalar spectrum\nk_bins, C_k = compute_scalar_variance_spectrum(state['scalar_state'].scalars['dye'], grid)\n\n# Also compute velocity spectrum for comparison\nfrom pygsquig.utils.diagnostics import compute_energy_spectrum\nk_e, E_k = compute_energy_spectrum(state['theta_hat'], grid, alpha)\n\n# Plot spectra\nfig, ax = plt.subplots(1, 1, figsize=(8, 6))\n\n# Normalize for comparison\nax.loglog(k_bins, C_k/C_k[1], 'b-', linewidth=2, label='Scalar spectrum C(k)')\nax.loglog(k_e, E_k/E_k[1], 'r--', linewidth=2, label='Energy spectrum E(k)')\n\n# Reference slopes\nk_ref = k_bins[k_bins > 10]\nif len(k_ref) > 0:\n    # Batchelor spectrum k^{-1} for high Schmidt number\n    C_batch = (C_k/C_k[1])[k_bins == k_ref[0]][0] * (k_ref/k_ref[0])**(-1)\n    ax.loglog(k_ref, C_batch, 'k:', alpha=0.7, label='k⁻¹ (Batchelor)')\n\nax.set_xlabel('Wavenumber k')\nax.set_ylabel('Normalized Spectrum')\nax.set_title('Scalar vs Energy Spectrum')\nax.grid(True, alpha=0.3, which='both')\nax.legend()\nax.set_xlim(1, N/2)\n\nplt.show()\n\nprint(\"Spectrum analysis:\")\nprint(\"  - Scalar spectrum extends to smaller scales than energy\")\nprint(\"  - This is due to lower diffusivity (higher Schmidt number)\")\nprint(\"  - At high k, expect Batchelor scaling C(k) ~ k⁻¹\")"
  },
  {
   "cell_type": "code",
   "execution_count": null,
   "metadata": {},
   "outputs": [],
   "source": "# Plot mixing diagnostics\nfig, (ax1, ax2) = plt.subplots(2, 1, figsize=(10, 8))\n\n# Scalar variance decay\nax1.plot(times, dye_variances, 'b-', linewidth=2)\nax1.set_ylabel('Scalar Variance ⟨c²⟩')\nax1.set_title('Scalar Variance Decay (Mixing)')\nax1.grid(True, alpha=0.3)\nax1.set_yscale('log')\n\n# Dissipation rate (χ = κ⟨|∇c|²⟩)\nax2.plot(times, dye_dissipation, 'r-', linewidth=2)\nax2.set_xlabel('Time')\nax2.set_ylabel('Dissipation Rate χ')\nax2.set_title('Scalar Dissipation Rate')\nax2.grid(True, alpha=0.3)\n\nplt.tight_layout()\nplt.show()\n\n# Mixing efficiency\ninitial_var = dye_variances[0]\nfinal_var = dye_variances[-1]\nmixing_efficiency = 1 - final_var/initial_var\n\nprint(f\"Mixing analysis:\")\nprint(f\"  Initial variance: {initial_var:.6f}\")\nprint(f\"  Final variance: {final_var:.6f}\")\nprint(f\"  Mixing efficiency: {mixing_efficiency*100:.1f}%\")\nprint(f\"  Peak dissipation rate: {max(dye_dissipation):.3e}\")"
  },
  {
   "cell_type": "code",
   "execution_count": null,
   "metadata": {},
   "outputs": [],
   "source": [
    "# Visualize initial conditions\n",
    "fig, axes = plt.subplots(2, 2, figsize=(12, 10))\n",
    "\n",
    "# θ field\n",
    "theta = ifft2(state_multi.theta_hat).real\n",
    "im = axes[0,0].imshow(theta, cmap='RdBu_r', origin='lower', extent=[0, L, 0, L])\n",
    "axes[0,0].set_title('θ (buoyancy)')\n",
    "plt.colorbar(im, ax=axes[0,0])\n",
    "\n",
    "# Scalars\n",
    "scalar_names = list(multi_scalars.keys())\n",
    "cmaps = ['hot', 'viridis', 'plasma']\n",
    "\n",
    "for i, (name, cmap) in enumerate(zip(scalar_names, cmaps)):\n",
    "    ax_idx = (i+1) // 2, (i+1) % 2\n",
    "    scalar = ifft2(state_multi.scalar_state.scalars[name]).real\n",
    "    im = axes[ax_idx].imshow(scalar, cmap=cmap, origin='lower', extent=[0, L, 0, L])\n",
    "    axes[ax_idx].set_title(f'{name} (κ={multi_scalars[name][\"kappa\"]:.1e})')\n",
    "    plt.colorbar(im, ax=axes[ax_idx])\n",
    "\n",
    "for ax in axes.flat:\n",
    "    ax.set_xlabel('x')\n",
    "    ax.set_ylabel('y')\n",
    "\n",
    "plt.suptitle('Initial Conditions: Multiple Scalars', fontsize=14)\n",
    "plt.tight_layout()\n",
    "plt.show()"
   ]
  },
  {
   "cell_type": "code",
   "execution_count": null,
   "metadata": {},
   "outputs": [],
   "source": "# Visualize initial conditions\nfig, axes = plt.subplots(2, 2, figsize=(12, 10))\n\n# θ field\ntheta = ifft2(state_multi['theta_hat']).real\nim = axes[0,0].imshow(theta, cmap='RdBu_r', origin='lower', extent=[0, L, 0, L])\naxes[0,0].set_title('θ (buoyancy)')\nplt.colorbar(im, ax=axes[0,0])\n\n# Scalars\nscalar_names = list(multi_scalars.keys())\ncmaps = ['hot', 'viridis', 'plasma']\n\nfor i, (name, cmap) in enumerate(zip(scalar_names, cmaps)):\n    ax_idx = (i+1) // 2, (i+1) % 2\n    scalar = ifft2(state_multi['scalar_state'].scalars[name]).real\n    im = axes[ax_idx].imshow(scalar, cmap=cmap, origin='lower', extent=[0, L, 0, L])\n    axes[ax_idx].set_title(f'{name} (κ={multi_scalars[name][\"kappa\"]:.1e})')\n    plt.colorbar(im, ax=axes[ax_idx])\n\nfor ax in axes.flat:\n    ax.set_xlabel('x')\n    ax.set_ylabel('y')\n\nplt.suptitle('Initial Conditions: Multiple Scalars', fontsize=14)\nplt.tight_layout()\nplt.show()"
  },
  {
   "cell_type": "markdown",
   "metadata": {},
   "source": "# Evolve and compare mixing rates\nn_steps_multi = 300\nvariances = {name: [float(compute_scalar_variance(state_multi['scalar_state'].scalars[name]))] \n             for name in scalar_names}\n\nprint(\"Evolving multiple scalars...\")\nfor step in range(n_steps_multi):\n    state_multi = solver_multi.step(state_multi, dt)\n    \n    if (step + 1) % 50 == 0:\n        print(f\"  Step {step+1}: t={float(state_multi['time']):.3f}\")\n        for name in scalar_names:\n            var = compute_scalar_variance(state_multi['scalar_state'].scalars[name])\n            variances[name].append(float(var))\n\n# Plot comparative mixing\nfig, ax = plt.subplots(1, 1, figsize=(8, 6))\n\ncolors = ['red', 'green', 'purple']\nfor name, color in zip(scalar_names, colors):\n    # Normalize by initial variance\n    var_norm = np.array(variances[name]) / variances[name][0]\n    times = np.arange(len(variances[name])) * 50 * dt\n    ax.plot(times, var_norm, color=color, linewidth=2, \n            label=f'{name} (κ={multi_scalars[name][\"kappa\"]:.1e})')\n\nax.set_xlabel('Time')\nax.set_ylabel('Normalized Variance ⟨c²⟩/⟨c²⟩₀')\nax.set_title('Comparative Mixing Rates')\nax.grid(True, alpha=0.3)\nax.legend()\nax.set_yscale('log')\n\nplt.show()\n\nprint(\"\\nMixing rate analysis:\")\nprint(\"  - Higher diffusivity → faster mixing\")\nprint(\"  - Pollutant (lowest κ) retains structure longest\")\nprint(\"  - Heat (highest κ) mixes most rapidly\")"
  },
  {
   "cell_type": "code",
   "execution_count": null,
   "metadata": {},
   "outputs": [],
   "source": [
    "# Estimate typical velocity scale\n",
    "from pygsquig.core.operators import compute_velocity_from_theta\n",
    "u, v = compute_velocity_from_theta(state.theta_hat, grid, alpha)\n",
    "U = float(jnp.sqrt(jnp.mean(u**2 + v**2)))\n",
    "\n",
    "# Compute Péclet numbers\n",
    "print(\"Péclet number analysis:\")\n",
    "print(f\"Characteristic velocity U ≈ {U:.3f}\")\n",
    "print(f\"Domain size L = {L:.2f}\")\n",
    "print(\"\\nPéclet numbers (Pe = UL/κ):\")\n",
    "\n",
    "for name in multi_scalars:\n",
    "    kappa = multi_scalars[name]['kappa']\n",
    "    Pe = U * L / kappa\n",
    "    print(f\"  {name}: Pe = {Pe:.0f} (κ = {kappa:.1e})\")\n",
    "\n",
    "print(\"\\nInterpretation:\")\n",
    "print(\"  Pe >> 1: Advection dominated (sharp gradients, slow mixing)\")\n",
    "print(\"  Pe ~ 1: Balance of advection and diffusion\")\n",
    "print(\"  Pe << 1: Diffusion dominated (smooth fields, fast mixing)\")"
   ]
  },
  {
   "cell_type": "markdown",
   "metadata": {},
   "source": "# Estimate typical velocity scale\nfrom pygsquig.core.operators import compute_velocity_from_theta\nu, v = compute_velocity_from_theta(state['theta_hat'], grid, alpha)\nU = float(jnp.sqrt(jnp.mean(u**2 + v**2)))\n\n# Compute Péclet numbers\nprint(\"Péclet number analysis:\")\nprint(f\"Characteristic velocity U ≈ {U:.3f}\")\nprint(f\"Domain size L = {L:.2f}\")\nprint(\"\\nPéclet numbers (Pe = UL/κ):\")\n\nfor name in multi_scalars:\n    kappa = multi_scalars[name]['kappa']\n    Pe = U * L / kappa\n    print(f\"  {name}: Pe = {Pe:.0f} (κ = {kappa:.1e})\")\n\nprint(\"\\nInterpretation:\")\nprint(\"  Pe >> 1: Advection dominated (sharp gradients, slow mixing)\")\nprint(\"  Pe ~ 1: Balance of advection and diffusion\")\nprint(\"  Pe << 1: Diffusion dominated (smooth fields, fast mixing)\")"
  },
  {
   "cell_type": "code",
   "execution_count": null,
   "metadata": {},
   "outputs": [],
   "source": [
    "# Example: Resolution check\n",
    "def check_scalar_resolution(scalar_hat, grid, kappa, nu_p=1e-16):\n",
    "    \"\"\"Check if scalar is well-resolved.\"\"\"\n",
    "    k_bins, C_k = compute_scalar_spectrum(scalar_hat, grid)\n",
    "    \n",
    "    # Find where spectrum drops significantly\n",
    "    C_k_norm = C_k / C_k[0]\n",
    "    k_cutoff_idx = np.where(C_k_norm < 1e-8)[0]\n",
    "    \n",
    "    if len(k_cutoff_idx) > 0:\n",
    "        k_cutoff = k_bins[k_cutoff_idx[0]]\n",
    "        k_max = grid.N // 2\n",
    "        \n",
    "        resolution_factor = k_max / k_cutoff\n",
    "        print(f\"Resolution check:\")\n",
    "        print(f\"  Spectrum cutoff at k ≈ {k_cutoff:.0f}\")\n",
    "        print(f\"  Maximum resolved k = {k_max}\")\n",
    "        print(f\"  Resolution factor = {resolution_factor:.1f}\")\n",
    "        \n",
    "        if resolution_factor > 2:\n",
    "            print(\"  ✓ Well resolved\")\n",
    "        else:\n",
    "            print(\"  ⚠️ Marginally resolved - consider higher resolution\")\n",
    "    else:\n",
    "        print(\"  ⚠️ Cannot determine resolution - spectrum may be under-resolved\")\n",
    "\n",
    "# Check our scalars\n",
    "for name in ['pollutant']:  # Check the highest Pe scalar\n",
    "    print(f\"\\nChecking {name}:\")\n",
    "    check_scalar_resolution(\n",
    "        state_multi.scalar_state.scalars[name], \n",
    "        grid, \n",
    "        multi_scalars[name]['kappa']\n",
    "    )"
   ]
  },
  {
   "cell_type": "markdown",
   "metadata": {},
   "source": "# Example: Resolution check\ndef check_scalar_resolution(scalar_hat, grid, kappa, nu_p=1e-16):\n    \"\"\"Check if scalar is well-resolved.\"\"\"\n    k_bins, C_k = compute_scalar_variance_spectrum(scalar_hat, grid)\n    \n    # Find where spectrum drops significantly\n    C_k_norm = C_k / C_k[0]\n    k_cutoff_idx = np.where(C_k_norm < 1e-8)[0]\n    \n    if len(k_cutoff_idx) > 0:\n        k_cutoff = k_bins[k_cutoff_idx[0]]\n        k_max = grid.N // 2\n        \n        resolution_factor = k_max / k_cutoff\n        print(f\"Resolution check:\")\n        print(f\"  Spectrum cutoff at k ≈ {k_cutoff:.0f}\")\n        print(f\"  Maximum resolved k = {k_max}\")\n        print(f\"  Resolution factor = {resolution_factor:.1f}\")\n        \n        if resolution_factor > 2:\n            print(\"  ✓ Well resolved\")\n        else:\n            print(\"  ⚠️ Marginally resolved - consider higher resolution\")\n    else:\n        print(\"  ⚠️ Cannot determine resolution - spectrum may be under-resolved\")\n\n# Check our scalars\nfor name in ['pollutant']:  # Check the highest Pe scalar\n    print(f\"\\nChecking {name}:\")\n    check_scalar_resolution(\n        state_multi['scalar_state'].scalars[name], \n        grid, \n        multi_scalars[name]['kappa']\n    )"
  }
 ],
 "metadata": {
  "kernelspec": {
   "display_name": "Python 3",
   "language": "python",
   "name": "python3"
  },
  "language_info": {
   "codemirror_mode": {
    "name": "ipython",
    "version": 3
   },
   "file_extension": ".py",
   "mimetype": "text/x-python",
   "name": "python",
   "nbconvert_exporter": "python",
   "pygments_lexer": "ipython3",
   "version": "3.9.0"
  }
 },
 "nbformat": 4,
 "nbformat_minor": 4
}