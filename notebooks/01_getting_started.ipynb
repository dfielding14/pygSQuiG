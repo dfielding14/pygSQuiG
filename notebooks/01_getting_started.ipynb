{
 "cells": [
  {
   "cell_type": "markdown",
   "metadata": {},
   "source": [
    "# Getting Started with pygSQuiG\n",
    "\n",
    "Welcome to pygSQuiG! This notebook will help you:\n",
    "1. Verify your installation\n",
    "2. Create your first grid and solver\n",
    "3. Run a simple turbulence simulation\n",
    "4. Understand key diagnostics\n",
    "5. Troubleshoot common issues"
   ]
  },
  {
   "cell_type": "markdown",
   "metadata": {},
   "source": [
    "## 1. Installation Check\n",
    "\n",
    "First, let's verify that pygSQuiG and its dependencies are properly installed:"
   ]
  },
  {
   "cell_type": "code",
   "execution_count": null,
   "metadata": {},
   "outputs": [],
   "source": [
    "# Check imports\n",
    "try:\n",
    "    import jax\n",
    "    import jax.numpy as jnp\n",
    "    import numpy as np\n",
    "    import matplotlib.pyplot as plt\n",
    "    import pygsquig\n",
    "    print(\"✓ All imports successful!\")\n",
    "    print(f\"  JAX version: {jax.__version__}\")\n",
    "    print(f\"  NumPy version: {np.__version__}\")\n",
    "    print(f\"  Default device: {jax.default_backend()}\")\n",
    "except ImportError as e:\n",
    "    print(f\"❌ Import error: {e}\")\n",
    "    print(\"Please install pygSQuiG: pip install -e .\")"
   ]
  },
  {
   "cell_type": "markdown",
   "metadata": {},
   "source": [
    "## 2. Creating a Grid\n",
    "\n",
    "pygSQuiG uses spectral methods on a doubly-periodic square domain [0, L] × [0, L]:"
   ]
  },
  {
   "cell_type": "code",
   "execution_count": null,
   "metadata": {},
   "outputs": [],
   "source": [
    "from pygsquig.core.grid import make_grid\n",
    "\n",
    "# Grid parameters\n",
    "N = 128          # Number of grid points (use powers of 2 for FFT efficiency)\n",
    "L = 2 * np.pi   # Domain size\n",
    "\n",
    "# Create grid\n",
    "grid = make_grid(N, L)\n",
    "\n",
    "print(f\"Grid properties:\")\n",
    "print(f\"  Resolution: {grid.N} × {grid.N}\")\n",
    "print(f\"  Domain size: {grid.L:.2f} × {grid.L:.2f}\")\n",
    "print(f\"  Grid spacing: Δx = Δy = {grid.L/grid.N:.3f}\")\n",
    "print(f\"  Nyquist wavenumber: k_max = {grid.N//2}\")"
   ]
  },
  {
   "cell_type": "markdown",
   "metadata": {},
   "source": [
    "## 3. Creating a Solver\n",
    "\n",
    "The gSQG solver requires:\n",
    "- **α**: Fractional power (α=1 for classic SQG)\n",
    "- **Dissipation**: Small-scale dissipation to ensure numerical stability"
   ]
  },
  {
   "cell_type": "code",
   "execution_count": null,
   "metadata": {},
   "outputs": [],
   "source": [
    "from pygsquig.core.solver import gSQGSolver\n",
    "\n",
    "# Physical parameters\n",
    "alpha = 1.0     # SQG turbulence\n",
    "nu_p = 1e-16    # Hyperviscosity coefficient\n",
    "p = 8           # Hyperviscosity order: dissipation ~ k^(2p)\n",
    "\n",
    "# Create solver\n",
    "solver = gSQGSolver(grid, alpha=alpha, nu_p=nu_p, p=p)\n",
    "\n",
    "print(f\"Solver configuration:\")\n",
    "print(f\"  Model: gSQG with α = {alpha}\")\n",
    "print(f\"  Dissipation: ν_{p} (-Δ)^{p/2} with ν_{p} = {nu_p:.1e}\")\n",
    "\n",
    "# Important note about hyperviscosity\n",
    "print(\"\\n⚠️  Important: For p=8 hyperviscosity, use ν_p ~ 1e-16\")\n",
    "print(\"   Using larger values (e.g., 1e-2) will cause immediate NaN!\")"
   ]
  },
  {
   "cell_type": "markdown",
   "metadata": {},
   "source": [
    "## 4. Running Your First Simulation\n",
    "\n",
    "Let's simulate freely decaying turbulence from random initial conditions:"
   ]
  },
  {
   "cell_type": "code",
   "execution_count": null,
   "metadata": {},
   "outputs": [],
   "source": [
    "# Initialize with random initial condition\n",
    "state = solver.initialize(seed=42)\n",
    "\n",
    "# The state contains:\n",
    "print(\"State variables:\")\n",
    "for key, value in state.items():\n",
    "    if hasattr(value, 'shape'):\n",
    "        print(f\"  {key}: shape {value.shape}, dtype {value.dtype}\")\n",
    "    else:\n",
    "        print(f\"  {key}: {value}\")"
   ]
  },
  {
   "cell_type": "code",
   "execution_count": null,
   "metadata": {},
   "outputs": [],
   "source": [
    "# Time stepping\n",
    "dt = 0.001      # Time step\n",
    "n_steps = 100   # Number of steps\n",
    "\n",
    "# Storage for diagnostics\n",
    "from pygsquig.utils.diagnostics import compute_total_energy, compute_enstrophy\n",
    "\n",
    "times = [state['time']]\n",
    "energies = [compute_total_energy(state['theta_hat'], grid, alpha)]\n",
    "enstrophies = [compute_enstrophy(state['theta_hat'], grid, alpha)]\n",
    "\n",
    "print(f\"Initial state:\")\n",
    "print(f\"  Energy: {energies[0]:.6f}\")\n",
    "print(f\"  Enstrophy: {enstrophies[0]:.3f}\")\n",
    "\n",
    "# Run simulation\n",
    "print(\"\\nRunning simulation...\")\n",
    "for i in range(n_steps):\n",
    "    state = solver.step(state, dt)\n",
    "    \n",
    "    # Check for numerical issues\n",
    "    theta_hat = state['theta_hat']\n",
    "    if jnp.any(jnp.isnan(theta_hat)):\n",
    "        print(f\"❌ NaN detected at step {i+1}!\")\n",
    "        break\n",
    "    \n",
    "    # Record diagnostics every 10 steps\n",
    "    if (i + 1) % 10 == 0:\n",
    "        E = compute_total_energy(theta_hat, grid, alpha)\n",
    "        Z = compute_enstrophy(theta_hat, grid, alpha)\n",
    "        \n",
    "        times.append(state['time'])\n",
    "        energies.append(float(E))\n",
    "        enstrophies.append(float(Z))\n",
    "        \n",
    "        if (i + 1) % 50 == 0:\n",
    "            print(f\"  Step {i+1}: t={state['time']:.3f}, E={E:.6f}\")\n",
    "\n",
    "print(\"\\n✓ Simulation completed successfully!\")"
   ]
  },
  {
   "cell_type": "markdown",
   "metadata": {},
   "source": [
    "## 5. Visualizing Results"
   ]
  },
  {
   "cell_type": "code",
   "execution_count": null,
   "metadata": {},
   "outputs": [],
   "source": [
    "# Convert to physical space for visualization\n",
    "from pygsquig.core.grid import ifft2\n",
    "\n",
    "theta = ifft2(state['theta_hat']).real\n",
    "\n",
    "# Plot the field\n",
    "fig, (ax1, ax2) = plt.subplots(1, 2, figsize=(12, 5))\n",
    "\n",
    "# Buoyancy field\n",
    "im = ax1.imshow(theta, cmap='RdBu_r', origin='lower',\n",
    "                extent=[0, L, 0, L])\n",
    "ax1.set_title(f'Buoyancy θ at t={state[\"time\"]:.2f}')\n",
    "ax1.set_xlabel('x')\n",
    "ax1.set_ylabel('y')\n",
    "plt.colorbar(im, ax=ax1)\n",
    "\n",
    "# Energy evolution\n",
    "ax2.plot(times, energies, 'b-', linewidth=2)\n",
    "ax2.set_xlabel('Time')\n",
    "ax2.set_ylabel('Total Energy')\n",
    "ax2.set_title('Energy Evolution')\n",
    "ax2.grid(True, alpha=0.3)\n",
    "\n",
    "plt.tight_layout()\n",
    "plt.show()\n",
    "\n",
    "# Summary statistics\n",
    "print(f\"\\nSimulation summary:\")\n",
    "print(f\"  Final time: {state['time']:.3f}\")\n",
    "print(f\"  Energy change: {(energies[-1]/energies[0] - 1)*100:.2f}%\")\n",
    "print(f\"  θ range: [{theta.min():.3f}, {theta.max():.3f}]\")"
   ]
  },
  {
   "cell_type": "markdown",
   "metadata": {},
   "source": [
    "## 6. Energy Spectrum\n",
    "\n",
    "The energy spectrum reveals the scale-by-scale distribution of energy:"
   ]
  },
  {
   "cell_type": "code",
   "execution_count": null,
   "metadata": {},
   "outputs": [],
   "source": [
    "from pygsquig.utils.diagnostics import compute_energy_spectrum\n",
    "\n",
    "# Compute spectrum\n",
    "k_bins, E_k = compute_energy_spectrum(state['theta_hat'], grid, alpha)\n",
    "\n",
    "# Plot\n",
    "fig, ax = plt.subplots(1, 1, figsize=(8, 6))\n",
    "\n",
    "ax.loglog(k_bins, E_k, 'b-', linewidth=2, label='Simulation')\n",
    "\n",
    "# Reference slopes\n",
    "k_ref = k_bins[k_bins > 10]\n",
    "if len(k_ref) > 0:\n",
    "    # k^{-5/3} scaling\n",
    "    E_ref = E_k[k_bins == k_ref[0]][0] * (k_ref/k_ref[0])**(-5/3)\n",
    "    ax.loglog(k_ref, E_ref, 'k--', alpha=0.5, label='k⁻⁵/³')\n",
    "\n",
    "ax.set_xlabel('Wavenumber k')\n",
    "ax.set_ylabel('Energy Spectrum E(k)')\n",
    "ax.set_title('Energy Spectrum')\n",
    "ax.grid(True, alpha=0.3, which='both')\n",
    "ax.legend()\n",
    "ax.set_xlim(1, N/2)\n",
    "\n",
    "plt.show()"
   ]
  },
  {
   "cell_type": "markdown",
   "metadata": {},
   "source": [
    "## 7. Performance Benchmark\n",
    "\n",
    "Let's measure the computational performance:"
   ]
  },
  {
   "cell_type": "code",
   "execution_count": null,
   "metadata": {},
   "outputs": [],
   "source": [
    "import time\n",
    "\n",
    "# Create a fresh state\n",
    "state_bench = solver.initialize(seed=123)\n",
    "\n",
    "# Warmup (for JIT compilation)\n",
    "for _ in range(5):\n",
    "    state_bench = solver.step(state_bench, dt)\n",
    "\n",
    "# Time 100 steps\n",
    "start = time.perf_counter()\n",
    "for _ in range(100):\n",
    "    state_bench = solver.step(state_bench, dt)\n",
    "elapsed = time.perf_counter() - start\n",
    "\n",
    "steps_per_second = 100 / elapsed\n",
    "ms_per_step = elapsed / 100 * 1000\n",
    "\n",
    "print(f\"Performance (N={N}):\")\n",
    "print(f\"  Time per step: {ms_per_step:.2f} ms\")\n",
    "print(f\"  Steps per second: {steps_per_second:.1f}\")\n",
    "print(f\"  Device: {jax.default_backend()}\")"
   ]
  },
  {
   "cell_type": "markdown",
   "metadata": {},
   "source": [
    "## 8. Common Issues and Troubleshooting\n",
    "\n",
    "### Issue 1: NaN values appearing immediately"
   ]
  },
  {
   "cell_type": "code",
   "execution_count": null,
   "metadata": {},
   "outputs": [],
   "source": [
    "# WRONG: Hyperviscosity too large\n",
    "solver_bad = gSQGSolver(grid, alpha=1.0, nu_p=1e-2, p=8)  # ❌ Too large!\n",
    "state_bad = solver_bad.initialize(seed=42)\n",
    "\n",
    "# This will produce NaN\n",
    "state_bad = solver_bad.step(state_bad, dt)\n",
    "E_bad = compute_total_energy(state_bad['theta_hat'], grid, alpha)\n",
    "print(f\"Energy with ν_p=1e-2: {E_bad} (NaN!)\")\n",
    "\n",
    "# CORRECT: Appropriate hyperviscosity\n",
    "solver_good = gSQGSolver(grid, alpha=1.0, nu_p=1e-16, p=8)  # ✓ Correct\n",
    "state_good = solver_good.initialize(seed=42)\n",
    "state_good = solver_good.step(state_good, dt)\n",
    "E_good = compute_total_energy(state_good['theta_hat'], grid, alpha)\n",
    "print(f\"Energy with ν_p=1e-16: {E_good:.6f} (physical!)\")"
   ]
  },
  {
   "cell_type": "markdown",
   "metadata": {},
   "source": [
    "### Issue 2: Time step too large"
   ]
  },
  {
   "cell_type": "code",
   "execution_count": null,
   "metadata": {},
   "outputs": [],
   "source": [
    "# Check CFL condition\n",
    "from pygsquig.core.operators import compute_velocity_from_theta\n",
    "\n",
    "# Compute velocity\n",
    "u, v = compute_velocity_from_theta(state['theta_hat'], grid, alpha)\n",
    "max_vel = float(jnp.max(jnp.sqrt(u**2 + v**2)))\n",
    "\n",
    "# CFL condition\n",
    "dx = L / N\n",
    "dt_cfl = 0.5 * dx / max_vel  # Safety factor of 0.5\n",
    "\n",
    "print(f\"CFL analysis:\")\n",
    "print(f\"  Max velocity: {max_vel:.3f}\")\n",
    "print(f\"  Grid spacing: {dx:.3f}\")\n",
    "print(f\"  CFL limit: dt < {dt_cfl:.4f}\")\n",
    "print(f\"  Current dt: {dt:.4f}\")\n",
    "print(f\"  Status: {'✓ Safe' if dt < dt_cfl else '❌ Too large!'}\")"
   ]
  },
  {
   "cell_type": "markdown",
   "metadata": {},
   "source": [
    "### Issue 3: Checking numerical stability"
   ]
  },
  {
   "cell_type": "code",
   "execution_count": null,
   "metadata": {},
   "outputs": [],
   "source": [
    "def check_stability(state, solver, dt, n_steps=10):\n",
    "    \"\"\"Quick stability check.\"\"\"\n",
    "    state_test = state.copy()\n",
    "    \n",
    "    for i in range(n_steps):\n",
    "        state_test = solver.step(state_test, dt)\n",
    "        theta_hat = state_test['theta_hat']\n",
    "        \n",
    "        # Check for issues\n",
    "        has_nan = jnp.any(jnp.isnan(theta_hat))\n",
    "        has_inf = jnp.any(jnp.isinf(theta_hat))\n",
    "        max_val = jnp.max(jnp.abs(theta_hat))\n",
    "        \n",
    "        if has_nan or has_inf or max_val > 1e10:\n",
    "            print(f\"❌ Instability detected at step {i+1}:\")\n",
    "            print(f\"   NaN: {has_nan}, Inf: {has_inf}, Max: {max_val:.2e}\")\n",
    "            return False\n",
    "    \n",
    "    print(f\"✓ Stable for {n_steps} steps\")\n",
    "    return True\n",
    "\n",
    "# Test current configuration\n",
    "check_stability(state, solver, dt)"
   ]
  },
  {
   "cell_type": "markdown",
   "metadata": {},
   "source": [
    "## Summary\n",
    "\n",
    "You've successfully:\n",
    "1. ✓ Verified your pygSQuiG installation\n",
    "2. ✓ Created a computational grid and solver\n",
    "3. ✓ Run a decaying turbulence simulation\n",
    "4. ✓ Computed energy spectra and diagnostics\n",
    "5. ✓ Learned to troubleshoot common issues\n",
    "\n",
    "### Key takeaways:\n",
    "- Always use appropriate hyperviscosity values (ν_p ~ 1e-16 for p=8)\n",
    "- Monitor energy conservation and check for NaN values\n",
    "- Respect CFL conditions for time stepping\n",
    "- Use powers of 2 for grid resolution (FFT efficiency)\n",
    "\n",
    "### Next steps:\n",
    "- Try different values of α (0.5, 1.5, 2.0)\n",
    "- Explore forced turbulence (see notebook 03)\n",
    "- Add passive scalars (see notebook 05)\n",
    "- Use adaptive timestepping (see notebook 04)"
   ]
  }
 ],
 "metadata": {
  "kernelspec": {
   "display_name": "Python 3",
   "language": "python",
   "name": "python3"
  },
  "language_info": {
   "codemirror_mode": {
    "name": "ipython",
    "version": 3
   },
   "file_extension": ".py",
   "mimetype": "text/x-python",
   "name": "python",
   "nbconvert_exporter": "python",
   "pygments_lexer": "ipython3",
   "version": "3.9.0"
  }
 },
 "nbformat": 4,
 "nbformat_minor": 4
}